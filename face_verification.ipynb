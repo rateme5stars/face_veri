{
 "cells": [
  {
   "cell_type": "code",
   "execution_count": null,
   "metadata": {
    "tags": []
   },
   "outputs": [],
   "source": [
    "import itertools\n",
    "from pathlib import Path\n",
    "\n",
    "import matplotlib.pyplot as plt\n",
    "import torch\n",
    "\n",
    "from face_verification.preprocessing import (\n",
    "    split_identities,\n",
    "    find_unique_identities,\n",
    "    find_paths_with_identities,\n",
    ")\n",
    "from face_verification.dataloaders import create_dataloader\n",
    "from face_verification.losses import CrossEntropy\n",
    "from face_verification.metrics import EmbeddingAccuracy\n",
    "from face_verification.monitors import EarlyStopping, ModelCheckpoint\n",
    "from face_verification.models.face_verification import ArcFace, MobileNetV2\n",
    "from face_verification.trainers import ArcFaceTrainer"
   ]
  },
  {
   "cell_type": "code",
   "execution_count": null,
   "metadata": {
    "collapsed": false,
    "jupyter": {
     "outputs_hidden": false
    }
   },
   "outputs": [],
   "source": [
    "IMAGE_DIR = Path(\"meglass/\")\n",
    "CHECKPOINT_DIR = Path(\"checkpoint/\")\n",
    "VALID_SIZE = 0.1\n",
    "TEST_SIZE = 0.1\n",
    "IMAGE_SIZE = (256, 256)\n",
    "BATCH_SIZE = 8\n",
    "RANDOM_STATE = 12\n",
    "N_EPOCHS = 100\n",
    "LEARNING_RATE = 1e-5"
   ]
  },
  {
   "cell_type": "code",
   "execution_count": null,
   "metadata": {
    "collapsed": false,
    "jupyter": {
     "outputs_hidden": false
    }
   },
   "outputs": [],
   "source": [
    "image_paths = list(IMAGE_DIR.glob(\"*.jpg\"))"
   ]
  },
  {
   "cell_type": "code",
   "execution_count": null,
   "metadata": {
    "collapsed": false,
    "jupyter": {
     "outputs_hidden": false
    }
   },
   "outputs": [],
   "source": [
    "unique_identities = find_unique_identities(image_paths)"
   ]
  },
  {
   "cell_type": "code",
   "execution_count": null,
   "metadata": {
    "collapsed": false,
    "jupyter": {
     "outputs_hidden": false
    }
   },
   "outputs": [],
   "source": [
    "train_identities, test_identities, valid_identities = split_identities(\n",
    "    unique_identities, VALID_SIZE, TEST_SIZE, RANDOM_STATE\n",
    ")"
   ]
  },
  {
   "cell_type": "code",
   "execution_count": null,
   "metadata": {},
   "outputs": [],
   "source": [
    "train_identities = train_identities[:100]"
   ]
  },
  {
   "cell_type": "code",
   "execution_count": null,
   "metadata": {
    "collapsed": false,
    "jupyter": {
     "outputs_hidden": false
    }
   },
   "outputs": [],
   "source": [
    "train_paths = find_paths_with_identities(image_paths, train_identities)\n",
    "test_paths = find_paths_with_identities(image_paths, test_identities)\n",
    "valid_paths = find_paths_with_identities(image_paths, valid_identities)"
   ]
  },
  {
   "cell_type": "code",
   "execution_count": null,
   "metadata": {
    "collapsed": false,
    "jupyter": {
     "outputs_hidden": false
    }
   },
   "outputs": [],
   "source": [
    "train_loader = create_dataloader(\n",
    "    train_paths, IMAGE_SIZE, BATCH_SIZE, train=True\n",
    ")\n",
    "test_loader = create_dataloader(\n",
    "    test_paths, IMAGE_SIZE, BATCH_SIZE, train=False\n",
    ")\n",
    "valid_loader = create_dataloader(\n",
    "    valid_paths, IMAGE_SIZE, BATCH_SIZE, train=False\n",
    ")"
   ]
  },
  {
   "cell_type": "code",
   "execution_count": null,
   "metadata": {
    "collapsed": false,
    "jupyter": {
     "outputs_hidden": false
    }
   },
   "outputs": [],
   "source": [
    "print(len(train_loader))\n",
    "print(len(test_loader))\n",
    "print(len(valid_loader))"
   ]
  },
  {
   "cell_type": "code",
   "execution_count": null,
   "metadata": {
    "collapsed": false,
    "jupyter": {
     "outputs_hidden": false
    }
   },
   "outputs": [],
   "source": [
    "train_iter = iter(train_loader)\n",
    "image_batch, label_batch = next(train_iter)"
   ]
  },
  {
   "cell_type": "code",
   "execution_count": null,
   "metadata": {
    "collapsed": false,
    "jupyter": {
     "outputs_hidden": false
    }
   },
   "outputs": [],
   "source": [
    "print(image_batch.shape)\n",
    "print(label_batch.shape)"
   ]
  },
  {
   "cell_type": "code",
   "execution_count": null,
   "metadata": {
    "collapsed": false,
    "jupyter": {
     "outputs_hidden": false
    }
   },
   "outputs": [],
   "source": [
    "fig, axes = plt.subplots(nrows=2, ncols=4, figsize=(10, 5))\n",
    "for axis, image in zip(axes.flatten(), image_batch.permute(0, 2, 3, 1)):\n",
    "    axis.imshow(image)"
   ]
  },
  {
   "cell_type": "code",
   "execution_count": null,
   "metadata": {
    "collapsed": false,
    "jupyter": {
     "outputs_hidden": false
    }
   },
   "outputs": [],
   "source": [
    "arcface = ArcFace(len(train_identities))\n",
    "embedder = MobileNetV2()"
   ]
  },
  {
   "cell_type": "code",
   "execution_count": null,
   "metadata": {},
   "outputs": [],
   "source": [
    "trainable_params = [\n",
    "    param for param in\n",
    "    itertools.chain(arcface.parameters(), embedder.parameters())\n",
    "    if param.requires_grad\n",
    "]"
   ]
  },
  {
   "cell_type": "code",
   "execution_count": null,
   "metadata": {
    "collapsed": false,
    "jupyter": {
     "outputs_hidden": false
    }
   },
   "outputs": [],
   "source": [
    "loss = CrossEntropy()\n",
    "optimizer = torch.optim.Adam(trainable_params, LEARNING_RATE)\n",
    "metrics = [EmbeddingAccuracy()]\n",
    "monitors = [\n",
    "    ModelCheckpoint(loss, CHECKPOINT_DIR),\n",
    "    EarlyStopping(loss, patience=10),\n",
    "]"
   ]
  },
  {
   "cell_type": "code",
   "execution_count": null,
   "metadata": {},
   "outputs": [],
   "source": [
    "trainer = ArcFaceTrainer(\n",
    "    arcface, embedder, loss, optimizer, metrics, monitors\n",
    ")"
   ]
  },
  {
   "cell_type": "code",
   "execution_count": null,
   "metadata": {},
   "outputs": [],
   "source": [
    "trainer.train(train_loader, valid_loader, N_EPOCHS)"
   ]
  },
  {
   "cell_type": "code",
   "execution_count": null,
   "metadata": {
    "tags": []
   },
   "outputs": [],
   "source": [
    "trainer.test(test_loader)"
   ]
  }
 ],
 "metadata": {
  "kernelspec": {
   "display_name": "Python 3 (ipykernel)",
   "language": "python",
   "name": "python3"
  },
  "language_info": {
   "codemirror_mode": {
    "name": "ipython",
    "version": 3
   },
   "file_extension": ".py",
   "mimetype": "text/x-python",
   "name": "python",
   "nbconvert_exporter": "python",
   "pygments_lexer": "ipython3",
   "version": "3.10.10"
  }
 },
 "nbformat": 4,
 "nbformat_minor": 4
}
